{
 "cells": [
  {
   "cell_type": "markdown",
   "id": "a2bcba5f-002e-4f49-9622-ada6117faf0a",
   "metadata": {},
   "source": [
    "## Import"
   ]
  },
  {
   "cell_type": "code",
   "execution_count": null,
   "id": "813af99d",
   "metadata": {},
   "outputs": [],
   "source": [
    "# !pip install lmdb pillow nltk natsort"
   ]
  },
  {
   "cell_type": "code",
   "execution_count": null,
   "id": "1738d833",
   "metadata": {
    "collapsed": false
   },
   "outputs": [],
   "source": [
    "import os\n",
    "import random\n",
    "import sys\n",
    "sys.path.append(\"./textocr\")\n",
    "\n",
    "import numpy as np\n",
    "import pandas as pd\n",
    "import torch\n",
    "\n",
    "from sklearn.model_selection import train_test_split"
   ]
  },
  {
   "cell_type": "code",
   "execution_count": null,
   "outputs": [],
   "source": [
    "import warnings\n",
    "warnings.filterwarnings(action='ignore')"
   ],
   "metadata": {
    "collapsed": false
   }
  },
  {
   "cell_type": "code",
   "execution_count": null,
   "id": "77970b47",
   "metadata": {
    "collapsed": false
   },
   "outputs": [],
   "source": [
    "device = torch.device('cuda') if torch.cuda.is_available() else torch.device('cpu')"
   ]
  },
  {
   "cell_type": "markdown",
   "id": "a91f16ab",
   "metadata": {
    "collapsed": false
   },
   "source": [
    "## Hyperparameter Setting"
   ]
  },
  {
   "cell_type": "code",
   "execution_count": null,
   "id": "4b56c592",
   "metadata": {
    "collapsed": false
   },
   "outputs": [],
   "source": [
    "# 하이퍼파라미터 설정\n",
    "opt = {\n",
    "    'exp_name': 'None',\n",
    "    'train_data': './result/',\n",
    "    'valid_data': './result/valid',\n",
    "    'manualSeed': 41,\n",
    "    'workers': 0,\n",
    "    'batch_size': 96,\n",
    "    'num_iter': 10000,\n",
    "    'valInterval': 100,\n",
    "    'saved_model': '',\n",
    "\n",
    "    'FT': False,\n",
    "    'adam': False,\n",
    "    'lr': 1,\n",
    "    'beta1': 0.9,\n",
    "    'rho': 0.95,\n",
    "    'eps': 1e-8,\n",
    "    'grad_clip': 5,\n",
    "    'baiduCTC': False,\n",
    "    'select_data': 'train',\n",
    "    'batch_ratio': '1',\n",
    "    'total_data_usage_ratio': '1',\n",
    "    'batch_max_length': 6,\n",
    "\n",
    "    'imgH': 32,\n",
    "    'imgW': 100,\n",
    "    'rgb': False,\n",
    "    'character': '',\n",
    "    'sensitive': False,\n",
    "    'PAD': False,\n",
    "    'data_filtering_off': False,\n",
    "    'Transformation': 'TPS',  # None|TPS\n",
    "    'FeatureExtraction': 'ResNet',  # VGG|ResNet|RCNN\n",
    "    'SequenceModeling': 'BiLSTM',  # None|BiLSTM\n",
    "    'Prediction': 'Attn',  # CTC|Attn\n",
    "    'num_fiducial': 20,\n",
    "    'input_channel': 1,\n",
    "    'output_channel': 512,\n",
    "    'hidden_size': 256,\n",
    "}\n",
    "\n",
    "opt = pd.Series(opt)"
   ]
  },
  {
   "cell_type": "markdown",
   "id": "91562bd3",
   "metadata": {
    "collapsed": false
   },
   "source": [
    "## Fixed RandomSeed"
   ]
  },
  {
   "cell_type": "code",
   "execution_count": null,
   "id": "6dcd0c2f",
   "metadata": {
    "collapsed": false
   },
   "outputs": [],
   "source": [
    "def seed_everything(seed):\n",
    "    random.seed(seed)\n",
    "    os.environ['PYTHONHASHSEED'] = str(seed)\n",
    "    np.random.seed(seed)\n",
    "    torch.manual_seed(seed)\n",
    "    torch.cuda.manual_seed(seed)\n",
    "    torch.backends.cudnn.deterministic = True\n",
    "    torch.backends.cudnn.benchmark = True\n",
    "\n",
    "seed_everything(opt.manualSeed)  # Seed 고정"
   ]
  },
  {
   "cell_type": "markdown",
   "id": "e38f29e2",
   "metadata": {
    "collapsed": false
   },
   "source": [
    "## Data Load & Train/Validation Split"
   ]
  },
  {
   "cell_type": "code",
   "execution_count": null,
   "id": "77a45cb4",
   "metadata": {
    "collapsed": false
   },
   "outputs": [],
   "source": [
    "df = pd.read_csv('./train.csv')\n",
    "df['len'] = df['label'].str.len()\n",
    "print(df['len'].max())\n",
    "\n",
    "\n",
    "# 제공된 학습데이터 중 1글자 샘플들의 단어사전이 학습/테스트 데이터의 모든 글자를 담고 있으므로 학습 데이터로 우선 배치\n",
    "train_v1 = df[df['len'] == 1]"
   ]
  },
  {
   "cell_type": "code",
   "execution_count": null,
   "id": "68c900b7",
   "metadata": {},
   "outputs": [],
   "source": [
    "# 제공된 학습데이터 중 2글자 이상의 샘플들에 대해서 단어길이를 고려하여 Train (80%) / Validation (20%) 분할\n",
    "df = df[df['len'] > 1]\n",
    "train_v2, val, _, _ = train_test_split(df, df['len'], test_size=0.2, random_state=opt.manualSeed, stratify=df['len'], shuffle=True)"
   ]
  },
  {
   "cell_type": "code",
   "execution_count": null,
   "id": "3a9c46c7",
   "metadata": {
    "collapsed": false
   },
   "outputs": [],
   "source": [
    "# 학습 데이터로 우선 배치한 1글자 샘플들과 분할된 2글자 이상의 학습 샘플을 concat하여 최종 학습 데이터로 사용\n",
    "train = pd.concat([train_v1, train_v2])\n",
    "print(len(train), len(val))"
   ]
  },
  {
   "cell_type": "code",
   "execution_count": null,
   "id": "6c9947f7",
   "metadata": {},
   "outputs": [],
   "source": [
    "# 학습 레이블 생성\n",
    "str_dict = pd.Series(train_v1['label'].unique()).str.cat()\n",
    "opt.character = str_dict\n",
    "len(str_dict)"
   ]
  },
  {
   "cell_type": "code",
   "execution_count": null,
   "id": "805eb49b",
   "metadata": {},
   "outputs": [],
   "source": [
    "# gt 파일 생성\n",
    "os.makedirs(f'./gt_file', exist_ok=True)\n",
    "\n",
    "train.drop(['id', 'len'], axis=1).to_csv('./gt_file/train.txt', sep='\\t', header=False, index=False)\n",
    "val.drop(['id', 'len'], axis=1).to_csv('./gt_file/valid.txt', sep='\\t', header=False, index=False)"
   ]
  },
  {
   "cell_type": "code",
   "execution_count": null,
   "id": "46df58fc",
   "metadata": {},
   "outputs": [],
   "source": [
    "!python ./textocr/create_lmdb_dataset.py --inputPath '' --gtFile ./gt_file/train.txt --outputPath ./result/train --file_size 1\n",
    "!python ./textocr/create_lmdb_dataset.py --inputPath '' --gtFile ./gt_file/valid.txt --outputPath ./result/valid --file_size 1"
   ]
  },
  {
   "attachments": {},
   "cell_type": "markdown",
   "id": "53ff9d01",
   "metadata": {},
   "source": [
    "## Train"
   ]
  },
  {
   "cell_type": "code",
   "execution_count": null,
   "id": "2ae666e0",
   "metadata": {},
   "outputs": [],
   "source": [
    "if opt.exp_name == 'None':\n",
    "    opt.exp_name = f'{opt.Transformation}-{opt.FeatureExtraction}-{opt.SequenceModeling}-{opt.Prediction}-Seed{opt.manualSeed}'\n",
    "    print(opt.exp_name)\n",
    "\n",
    "os.makedirs(f'./saved_models/{opt.exp_name}', exist_ok=True)\n",
    "\n",
    "\"\"\" Seed and GPU setting \"\"\"\n",
    "opt.num_gpu = torch.cuda.device_count()\n",
    "\n",
    "if opt.num_gpu > 1:\n",
    "    print('------ Use multi-GPU setting ------')\n",
    "    print('if you stuck too long time with multi-GPU setting, try to set --workers 0')\n",
    "    # check multi-GPU issue https://github.com/clovaai/deep-text-recognition-benchmark/issues/1\n",
    "    opt.workers = opt.workers * opt.num_gpu\n",
    "    opt.batch_size = opt.batch_size * opt.num_gpu"
   ]
  },
  {
   "cell_type": "code",
   "execution_count": null,
   "id": "a9a0de44",
   "metadata": {},
   "outputs": [],
   "source": [
    "from textocr.train import train\n",
    "\n",
    "train(opt)"
   ]
  },
  {
   "attachments": {},
   "cell_type": "markdown",
   "id": "75269bcd",
   "metadata": {},
   "source": [
    "## Train 2"
   ]
  },
  {
   "cell_type": "code",
   "execution_count": null,
   "id": "adaa970a",
   "metadata": {},
   "outputs": [],
   "source": [
    "df = pd.read_csv('./train.csv')\n",
    "df.drop('id', axis=1).to_csv('./gt_file/final_train.txt', sep='\\t', header=False, index=False)"
   ]
  },
  {
   "cell_type": "code",
   "execution_count": null,
   "id": "7bfb73a3",
   "metadata": {},
   "outputs": [],
   "source": [
    "!python ./textocr/create_lmdb_dataset.py --inputPath '' --gtFile ./gt_file/final_train.txt --outputPath ./result/train --file_size 1"
   ]
  },
  {
   "cell_type": "code",
   "execution_count": null,
   "id": "f418d739",
   "metadata": {},
   "outputs": [],
   "source": [
    "opt.exp_name = f'{opt.Transformation}-{opt.FeatureExtraction}-{opt.SequenceModeling}-{opt.Prediction}-Seed{opt.manualSeed}-Final'\n",
    "os.makedirs(f'./saved_models/{opt.exp_name}', exist_ok=True)\n",
    "print(opt.exp_name)"
   ]
  },
  {
   "cell_type": "code",
   "execution_count": null,
   "id": "5d4aea76",
   "metadata": {},
   "outputs": [],
   "source": [
    "opt.select_data = 'train'\n",
    "opt.batch_ratio = '1'\n",
    "opt.valid_data = './result/train'\n",
    "opt.num_iter = 15000\n",
    "opt.valInterval = 500\n",
    "train(opt)"
   ]
  },
  {
   "attachments": {},
   "cell_type": "markdown",
   "id": "660df7be",
   "metadata": {},
   "source": [
    "## Inference"
   ]
  },
  {
   "cell_type": "code",
   "execution_count": null,
   "id": "caa7c46e",
   "metadata": {},
   "outputs": [],
   "source": [
    "opt.saved_model = f'./saved_models/{opt.exp_name}/best_accuracy.pth'\n",
    "opt.test_data = './test'"
   ]
  },
  {
   "cell_type": "code",
   "execution_count": null,
   "id": "24a3ed89",
   "metadata": {},
   "outputs": [],
   "source": [
    "from textocr.test import test\n",
    "\n",
    "result = test(opt)"
   ]
  },
  {
   "cell_type": "markdown",
   "id": "ec7196e6",
   "metadata": {
    "collapsed": false
   },
   "source": [
    "## Submission"
   ]
  },
  {
   "cell_type": "code",
   "execution_count": null,
   "id": "208ccf8d",
   "metadata": {
    "collapsed": false
   },
   "outputs": [],
   "source": [
    "submit = pd.read_csv('./sample_submission.csv')\n",
    "submit['label'] = result"
   ]
  },
  {
   "cell_type": "code",
   "execution_count": null,
   "id": "c7fe8cc6",
   "metadata": {},
   "outputs": [],
   "source": [
    "submit.to_csv('./submission.csv', index=False, encoding='utf8')"
   ]
  },
  {
   "cell_type": "code",
   "execution_count": null,
   "id": "ff21c130",
   "metadata": {},
   "outputs": [],
   "source": [
    "submit"
   ]
  }
 ],
 "metadata": {
  "kernelspec": {
   "display_name": "dacon_ocr",
   "language": "python",
   "name": "python3"
  },
  "language_info": {
   "codemirror_mode": {
    "name": "ipython",
    "version": 3
   },
   "file_extension": ".py",
   "mimetype": "text/x-python",
   "name": "python",
   "nbconvert_exporter": "python",
   "pygments_lexer": "ipython3",
   "version": "3.7.15"
  },
  "vscode": {
   "interpreter": {
    "hash": "cad5d7fbb23fbdef16fbcfd29178c73e0eea516fdaaa3675e62219cd87d72acc"
   }
  }
 },
 "nbformat": 4,
 "nbformat_minor": 5
}
