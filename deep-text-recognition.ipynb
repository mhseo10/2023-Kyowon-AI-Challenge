{
 "cells": [
  {
   "cell_type": "markdown",
   "id": "a2bcba5f-002e-4f49-9622-ada6117faf0a",
   "metadata": {},
   "source": [
    "## Import"
   ]
  },
  {
   "cell_type": "code",
   "execution_count": null,
   "id": "813af99d",
   "metadata": {},
   "outputs": [],
   "source": [
    "# !pip install lmdb pillow nltk natsort"
   ]
  },
  {
   "cell_type": "code",
   "execution_count": null,
   "id": "1738d833",
   "metadata": {
    "collapsed": false
   },
   "outputs": [],
   "source": [
    "import os\n",
    "import random\n",
    "import sys\n",
    "\n",
    "sys.path.append(\"./textocr\")\n",
    "\n",
    "import albumentations as A\n",
    "import cv2W\n",
    "import numpy as np\n",
    "import optuna\n",
    "import pandas as pd\n",
    "import torch\n",
    "\n",
    "from albumentations.pytorch import ToTensorV2\n",
    "from sklearn.model_selection import StratifiedKFold, train_test_split\n",
    "from textocr.train import train"
   ]
  },
  {
   "cell_type": "code",
   "execution_count": null,
   "metadata": {
    "collapsed": false
   },
   "outputs": [],
   "source": [
    "import warnings\n",
    "\n",
    "warnings.filterwarnings(action='ignore')"
   ]
  },
  {
   "cell_type": "code",
   "execution_count": null,
   "id": "77970b47",
   "metadata": {
    "collapsed": false
   },
   "outputs": [],
   "source": [
    "device = torch.device('cuda') if torch.cuda.is_available() else torch.device('cpu')"
   ]
  },
  {
   "cell_type": "markdown",
   "id": "a91f16ab",
   "metadata": {
    "collapsed": false
   },
   "source": [
    "## Hyperparameter Setting"
   ]
  },
  {
   "cell_type": "code",
   "execution_count": null,
   "id": "4b56c592",
   "metadata": {
    "collapsed": false
   },
   "outputs": [],
   "source": [
    "# 하이퍼파라미터 설정\n",
    "opt = {\n",
    "    'exp_name': 'None',\n",
    "    'train_data': './result/',\n",
    "    'valid_data': './result/valid',\n",
    "    'manualSeed': 41,\n",
    "    'workers': 0,\n",
    "    'batch_size': 96,\n",
    "    'num_iter': 30000,\n",
    "    'valInterval': 3000,\n",
    "    'saved_model': '',\n",
    "\n",
    "    'FT': False,\n",
    "    'adam': False,\n",
    "    'lr': 1,\n",
    "    'beta1': 0.9,\n",
    "    'rho': 0.95,\n",
    "    'eps': 1e-8,\n",
    "    'grad_clip': 5,\n",
    "    'baiduCTC': False,\n",
    "    'select_data': 'train',\n",
    "    'batch_ratio': '1',\n",
    "    'total_data_usage_ratio': '1',\n",
    "    'batch_max_length': 6,\n",
    "\n",
    "    'imgH': 64,\n",
    "    'imgW': 100,\n",
    "    'rgb': False,\n",
    "    'character': '',\n",
    "    'sensitive': False,\n",
    "    'PAD': False,\n",
    "    'data_filtering_off': False,\n",
    "    'Transformation': 'TPS',  # None|TPS\n",
    "    'FeatureExtraction': 'ResNet',  # VGG|ResNet|RCNN\n",
    "    'SequenceModeling': 'BiLSTM',  # None|BiLSTM\n",
    "    'Prediction': 'Attn',  # CTC|Attn\n",
    "    'num_fiducial': 20,\n",
    "    'input_channel': 1,\n",
    "    'output_channel': 512,\n",
    "    'hidden_size': 256,\n",
    "    'n_splits': 5,\n",
    "    'verbose': 0,\n",
    "}\n",
    "\n",
    "opt = pd.Series(opt)"
   ]
  },
  {
   "cell_type": "markdown",
   "id": "91562bd3",
   "metadata": {
    "collapsed": false
   },
   "source": [
    "## Fixed RandomSeed"
   ]
  },
  {
   "cell_type": "code",
   "execution_count": null,
   "id": "6dcd0c2f",
   "metadata": {
    "collapsed": false
   },
   "outputs": [],
   "source": [
    "def seed_everything(seed):\n",
    "    random.seed(seed)\n",
    "    os.environ['PYTHONHASHSEED'] = str(seed)\n",
    "    np.random.seed(seed)\n",
    "    torch.manual_seed(seed)\n",
    "    torch.cuda.manual_seed(seed)\n",
    "    torch.backends.cudnn.deterministic = True\n",
    "    torch.backends.cudnn.benchmark = True\n",
    "\n",
    "seed_everything(opt.manualSeed)  # Seed 고정"
   ]
  },
  {
   "cell_type": "markdown",
   "id": "e38f29e2",
   "metadata": {
    "collapsed": false
   },
   "source": [
    "## Data Load & Train/Validation Split"
   ]
  },
  {
   "cell_type": "code",
   "execution_count": null,
   "id": "77a45cb4",
   "metadata": {
    "collapsed": false
   },
   "outputs": [],
   "source": [
    "df = pd.read_csv('./train.csv')\n",
    "df['len'] = df['label'].str.len()\n",
    "print(df['len'].max())\n",
    "\n",
    "\n",
    "# 제공된 학습데이터 중 1글자 샘플들의 단어사전이 학습/테스트 데이터의 모든 글자를 담고 있으므로 학습 데이터로 우선 배치\n",
    "train_v1 = df[df['len'] == 1]\n",
    "df = df[df['len'] > 1]"
   ]
  },
  {
   "cell_type": "code",
   "execution_count": null,
   "id": "6c9947f7",
   "metadata": {},
   "outputs": [],
   "source": [
    "# 학습 레이블 생성\n",
    "str_dict = pd.Series(train_v1['label'].unique()).str.cat()\n",
    "opt.character = str_dict\n",
    "len(str_dict)"
   ]
  },
  {
   "attachments": {},
   "cell_type": "markdown",
   "id": "53ff9d01",
   "metadata": {},
   "source": [
    "## Train"
   ]
  },
  {
   "cell_type": "code",
   "execution_count": null,
   "id": "0759d9b1",
   "metadata": {},
   "outputs": [],
   "source": [
    "def objective(trial):\n",
    "    p = [trial.suggest_float(f'p{i}', 0.0, 1.0, step=0.1) for i in range(9)]\n",
    "    mean_acc = []\n",
    "    \n",
    "    opt.transforms = A.Compose([\n",
    "        # Transforms\n",
    "        A.CLAHE(p=p[0]),\n",
    "        A.ColorJitter(p=p[1]),\n",
    "        A.Emboss(alpha=(0.2, 0.9), strength=(0.3, 1.0), \n",
    "                 p=p[2]),\n",
    "        A.Sharpen(alpha=(0.2, 0.6), lightness=(0.6, 0.9), \n",
    "                  p=p[3]),\n",
    "        \n",
    "        # Blur\n",
    "        A.AdvancedBlur(p=p[4]),\n",
    "        A.GaussianBlur(p=p[5]),\n",
    "        \n",
    "        \n",
    "        # Dropout\n",
    "        A.CoarseDropout(max_holes=20, min_holes=5, \n",
    "                        max_height=8, max_width=8, \n",
    "                        p=p[6]),\n",
    "        \n",
    "        # Geometric\n",
    "        A.ElasticTransform(alpha=1.0, sigma=10, alpha_affine=10, interpolation=cv2.INTER_CUBIC,\n",
    "                           p=p[7]),\n",
    "        A.Rotate(limit=(-30, 30), interpolation=cv2.INTER_CUBIC, \n",
    "                 p=p[8])\n",
    "    ])\n",
    "    \n",
    "    for i in range(opt.n_splits):\n",
    "        opt.exp_name = f'{opt.Transformation}-{opt.FeatureExtraction}-{opt.SequenceModeling}-{opt.Prediction}-Seed{opt.manualSeed}-fold{i}'\n",
    "        os.makedirs(f'./saved_models/{opt.exp_name}', exist_ok=True)\n",
    "        \n",
    "        opt.valid_data = f'./result/valid_{i}'\n",
    "        opt.select_data = f'train_{i}'\n",
    "        opt.batch_ratio = '1'\n",
    "        \n",
    "        acc, norm = train(opt)\n",
    "        mean_acc.append(acc) \n",
    "\n",
    "    return np.mean(mean_acc)"
   ]
  },
  {
   "cell_type": "code",
   "execution_count": null,
   "id": "8b02cf46",
   "metadata": {},
   "outputs": [],
   "source": [
    "# # gt 파일을 저장할 폴더 생성\n",
    "# os.makedirs(f'./gt_file', exist_ok=True)\n",
    "\n",
    "# kf = StratifiedKFold(n_splits=opt.n_splits, random_state=opt.manualSeed, shuffle=True)  # 데이터 분포를 고르게 하여 K-Fold 진행\n",
    "# for i, (t_idx, v_idx) in enumerate(kf.split(df, df['len'])):\n",
    "#     train_v2 = df.iloc[t_idx]\n",
    "#     val_df = df.iloc[v_idx]\n",
    "    \n",
    "#     # 학습 데이터로 우선 배치한 1글자 샘플들과 분할된 2글자 이상의 학습 샘플을 concat하여 최종 학습 데이터로 사용\n",
    "#     train_df = pd.concat([train_v1, train_v2])\n",
    "    \n",
    "#     # gt 파일 생성\n",
    "#     train_df.drop(['id', 'len'], axis=1).to_csv(f'./gt_file/train_{i}.txt', sep='\\t', header=False, index=False)\n",
    "#     val_df.drop(['id', 'len'], axis=1).to_csv(f'./gt_file/valid_{i}.txt', sep='\\t', header=False, index=False)\n",
    "    \n",
    "#     # lmdb 데이터 생성\n",
    "#     os.system(f'python ./textocr/create_lmdb_dataset.py --inputPath \\'\\' --gtFile ./gt_file/train_{i}.txt --outputPath ./result/train_{i} --file_size 1')\n",
    "#     os.system(f'python ./textocr/create_lmdb_dataset.py --inputPath \\'\\' --gtFile ./gt_file/valid_{i}.txt --outputPath ./result/valid_{i} --file_size 1')"
   ]
  },
  {
   "cell_type": "code",
   "execution_count": null,
   "id": "b74dc460",
   "metadata": {},
   "outputs": [],
   "source": [
    "\"\"\" Seed and GPU setting \"\"\"\n",
    "opt.num_gpu = torch.cuda.device_count()\n",
    "\n",
    "if opt.num_gpu > 1:\n",
    "    print('------ Use multi-GPU setting ------')\n",
    "    print('if you stuck too long time with multi-GPU setting, try to set --workers 0')\n",
    "    # check multi-GPU issue https://github.com/clovaai/deep-text-recognition-benchmark/issues/1\n",
    "    opt.workers = opt.workers * opt.num_gpu\n",
    "    opt.batch_size = opt.batch_size * opt.num_gpu\n",
    "\n",
    "\n",
    "# study = optuna.create_study()\n",
    "# study.optimize(objective, n_trials=100)"
   ]
  },
  {
   "attachments": {},
   "cell_type": "markdown",
   "id": "75269bcd",
   "metadata": {},
   "source": [
    "## Train 2"
   ]
  },
  {
   "cell_type": "code",
   "execution_count": null,
   "id": "adaa970a",
   "metadata": {},
   "outputs": [],
   "source": [
    "df = pd.read_csv('./train.csv')\n",
    "df.drop('id', axis=1).to_csv('./gt_file/final_train.txt', sep='\\t', header=False, index=False)"
   ]
  },
  {
   "cell_type": "code",
   "execution_count": null,
   "id": "7bfb73a3",
   "metadata": {},
   "outputs": [],
   "source": [
    "# !python ./textocr/create_lmdb_dataset.py --inputPath '' --gtFile ./gt_file/final_train.txt --outputPath ./result/final_train --file_size 1"
   ]
  },
  {
   "cell_type": "code",
   "execution_count": null,
   "id": "f418d739",
   "metadata": {},
   "outputs": [],
   "source": [
    "opt.exp_name = f'{opt.Transformation}-{opt.FeatureExtraction}-{opt.SequenceModeling}-{opt.Prediction}-Seed{opt.manualSeed}-Final'\n",
    "os.makedirs(f'./saved_models/{opt.exp_name}', exist_ok=True)\n",
    "print(opt.exp_name)"
   ]
  },
  {
   "cell_type": "code",
   "execution_count": null,
   "id": "5d4aea76",
   "metadata": {},
   "outputs": [],
   "source": [
    "opt.select_data = 'final_train'\n",
    "opt.batch_ratio = '1'\n",
    "opt.valid_data = './result/final_train'\n",
    "opt.num_iter = 50000\n",
    "opt.valInterval = 1000\n",
    "opt.transforms = A.Compose([\n",
    "        # Transform\n",
    "        # A.SomeOf(transforms=[A.CLAHE(p=0.7),\n",
    "        #                      A.ColorJitter(p=0.7),\n",
    "        #                      A.Emboss(alpha=(0.2, 0.9), strength=(0.3, 1.0), p=0.7),\n",
    "        #                      A.Sharpen(alpha=(0.2, 0.6), lightness=(0.6, 0.9), p=0.7)], \n",
    "        #          n=3),\n",
    "        \n",
    "        # Noise\n",
    "        # A.GaussNoise(p=0.2),\n",
    "        \n",
    "        # Blur\n",
    "        # A.OneOf([A.AdvancedBlur(p=0.4),\n",
    "        #          A.GaussianBlur(p=0.4)]),\n",
    "        \n",
    "        # Dropout\n",
    "        # A.CoarseDropout(max_holes=20, min_holes=5, \n",
    "        #                 max_height=8, max_width=8, \n",
    "        #                 p=0.4),\n",
    "        \n",
    "        # Geometric\n",
    "        A.OneOf([A.ElasticTransform(alpha=1.0, sigma=10, alpha_affine=10, \n",
    "                                    interpolation=cv2.INTER_CUBIC, p=0.4),\n",
    "                 A.Rotate(limit=(-15, 15), interpolation=cv2.INTER_CUBIC, p=0.4)])\n",
    "        ])\n",
    "\n",
    "opt.verbose = 1\n",
    "train(opt)"
   ]
  },
  {
   "attachments": {},
   "cell_type": "markdown",
   "id": "660df7be",
   "metadata": {},
   "source": [
    "## Inference"
   ]
  },
  {
   "cell_type": "code",
   "execution_count": null,
   "id": "caa7c46e",
   "metadata": {},
   "outputs": [],
   "source": [
    "opt.saved_model = f'./saved_models/{opt.exp_name}/best_accuracy.pth'\n",
    "opt.test_data = './test'"
   ]
  },
  {
   "cell_type": "code",
   "execution_count": null,
   "id": "24a3ed89",
   "metadata": {},
   "outputs": [],
   "source": [
    "from textocr.test import test\n",
    "\n",
    "result = test(opt)"
   ]
  },
  {
   "cell_type": "markdown",
   "id": "ec7196e6",
   "metadata": {
    "collapsed": false
   },
   "source": [
    "## Submission"
   ]
  },
  {
   "cell_type": "code",
   "execution_count": null,
   "id": "208ccf8d",
   "metadata": {
    "collapsed": false
   },
   "outputs": [],
   "source": [
    "submit = pd.read_csv('./sample_submission.csv')\n",
    "submit['label'] = result"
   ]
  },
  {
   "cell_type": "code",
   "execution_count": null,
   "id": "c7fe8cc6",
   "metadata": {},
   "outputs": [],
   "source": [
    "submit.to_csv('./submission.csv', index=False, encoding='utf8')"
   ]
  },
  {
   "cell_type": "code",
   "execution_count": null,
   "id": "ff21c130",
   "metadata": {},
   "outputs": [],
   "source": [
    "submit"
   ]
  }
 ],
 "metadata": {
  "kernelspec": {
   "display_name": "dacon_ocr",
   "language": "python",
   "name": "python3"
  },
  "language_info": {
   "codemirror_mode": {
    "name": "ipython",
    "version": 3
   },
   "file_extension": ".py",
   "mimetype": "text/x-python",
   "name": "python",
   "nbconvert_exporter": "python",
   "pygments_lexer": "ipython3",
   "version": "3.7.15 (default, Nov 24 2022, 18:44:54) [MSC v.1916 64 bit (AMD64)]"
  },
  "vscode": {
   "interpreter": {
    "hash": "cad5d7fbb23fbdef16fbcfd29178c73e0eea516fdaaa3675e62219cd87d72acc"
   }
  }
 },
 "nbformat": 4,
 "nbformat_minor": 5
}
